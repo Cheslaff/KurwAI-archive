{
  "nbformat": 4,
  "nbformat_minor": 0,
  "metadata": {
    "colab": {
      "provenance": []
    },
    "kernelspec": {
      "name": "python3",
      "display_name": "Python 3"
    },
    "language_info": {
      "name": "python"
    }
  },
  "cells": [
    {
      "cell_type": "markdown",
      "source": [
        "# **Let's revisit Machine Learning!**\n",
        "### Greates recap of all time!\n",
        "Let's implement and explain most popular ML algorithms from scratch!\n",
        "I hope it's gonna be ez<br> after learning Transformer architecture and GPT<br>\n",
        "<img src=\"https://i.ibb.co/TqW6x7f/MEME.jpg\" width=40%>"
      ],
      "metadata": {
        "id": "zliLCcfb279c"
      }
    },
    {
      "cell_type": "code",
      "source": [
        "import numpy as np\n",
        "import matplotlib.pyplot as plt\n",
        "import pandas as pd"
      ],
      "metadata": {
        "id": "SEyT96m68AAw"
      },
      "execution_count": 1,
      "outputs": []
    },
    {
      "cell_type": "markdown",
      "source": [
        "### **Let's start with a Linear Regression!**\n",
        "#### **Explanation**\n",
        "Linear regression - simplest regression method I guess..<br>\n",
        "It fits the data by learning slope and y-intercept of simple linear function.<br>\n",
        "As in any other algorithm we use Gradient Descent for parameter tuning.<br>\n",
        "In the following code:<br>\n",
        "- lr - learning rate (controls speed of convergance)<br>\n",
        "- cost - error score of model (the lower the better)<br>\n",
        "- dw, db - partial derivatives of cost function w.r.t parameters (weights and bias respecitvely)<br>\n",
        "\n",
        "---\n",
        "specs:<br>\n",
        "loss - mse<br>\n",
        "optimizer - gradient descent<br>"
      ],
      "metadata": {
        "id": "6WIpTE8o7pUl"
      }
    },
    {
      "cell_type": "code",
      "execution_count": 2,
      "metadata": {
        "id": "61U-IFo3257h"
      },
      "outputs": [],
      "source": [
        "class LinearRegression:\n",
        "  def __init__(self):\n",
        "    self.weights = None\n",
        "    self.bias = 0\n",
        "\n",
        "  def fit(self, X, y, n=100, lr=0.1, verbose=10):\n",
        "    y = y.reshape(-1, 1)\n",
        "    # weights initialization to zeros (runs once)\n",
        "    self.m_samples, n_feats = X.shape\n",
        "    self.weights = np.zeros((n_feats, 1))\n",
        "    # training\n",
        "    for iter in range(n):\n",
        "      # prediction + feedback\n",
        "      prediction = self.pred(X)\n",
        "      cost = self.cost_fn(y, prediction)\n",
        "      if iter % verbose == 0:\n",
        "        print(f\"Iteration: {iter} | Loss: {cost}\")\n",
        "      # update\n",
        "      dw = 1 / self.m_samples * np.dot(X.T, (prediction - y))\n",
        "      db = 1 / self.m_samples * np.sum((prediction - y))\n",
        "      self.weights -= lr * dw\n",
        "      self.bias -= lr * db\n",
        "\n",
        "    return self.weights, self.bias\n",
        "\n",
        "  def pred(self, X):\n",
        "    return (np.dot(X, self.weights) + self.bias).reshape(-1, 1)\n",
        "\n",
        "  def cost_fn(self, y, y_pred):\n",
        "    # mean squared error used\n",
        "    return 1 / self.m_samples * np.sum((y - y_pred) ** 2)"
      ]
    },
    {
      "cell_type": "code",
      "source": [
        "# generate dataset\n",
        "xs = np.random.random((100, 1))\n",
        "ys = xs * 2 + 1  # our w=2 and b=1\n",
        "\n",
        "\n",
        "plt.scatter(xs, ys);"
      ],
      "metadata": {
        "colab": {
          "base_uri": "https://localhost:8080/",
          "height": 430
        },
        "id": "h5L5_hhmBZjc",
        "outputId": "24fce214-1bff-41de-9ae7-7e8603b851d0"
      },
      "execution_count": 3,
      "outputs": [
        {
          "output_type": "display_data",
          "data": {
            "text/plain": [
              "<Figure size 640x480 with 1 Axes>"
            ],
            "image/png": "[encoded data removed]"
          },
          "metadata": {}
        }
      ]
    },
    {
      "cell_type": "code",
      "source": [
        "model = LinearRegression()\n",
        "w, b = model.fit(xs, ys, n=500, verbose=50)\n",
        "print(w, b)"
      ],
      "metadata": {
        "colab": {
          "base_uri": "https://localhost:8080/"
        },
        "id": "2cfXnfhlB3el",
        "outputId": "1557bdfd-4252-4fde-e51a-c947b5ff26f2"
      },
      "execution_count": 4,
      "outputs": [
        {
          "output_type": "stream",
          "name": "stdout",
          "text": [
            "Iteration: 0 | Loss: 4.089488067824277\n",
            "Iteration: 50 | Loss: 0.0580017210943582\n",
            "Iteration: 100 | Loss: 0.03229670688766411\n",
            "Iteration: 150 | Loss: 0.017985774500989912\n",
            "Iteration: 200 | Loss: 0.010016132160288597\n",
            "Iteration: 250 | Loss: 0.005577902883573158\n",
            "Iteration: 300 | Loss: 0.003106288942744664\n",
            "Iteration: 350 | Loss: 0.0017298671556713525\n",
            "Iteration: 400 | Loss: 0.0009633490095182411\n",
            "Iteration: 450 | Loss: 0.0005364812616374595\n",
            "[[1.93611417]] 1.0322062992980978\n"
          ]
        }
      ]
    },
    {
      "cell_type": "code",
      "source": [
        "xp = np.linspace(0, 1, 100).reshape(-1, 1)\n",
        "yp = model.pred(xp)"
      ],
      "metadata": {
        "id": "GzMDV8UhCnP0"
      },
      "execution_count": 5,
      "outputs": []
    },
    {
      "cell_type": "code",
      "source": [
        "plt.scatter(xs, ys)\n",
        "plt.plot(xp, yp, c=\"red\");"
      ],
      "metadata": {
        "colab": {
          "base_uri": "https://localhost:8080/",
          "height": 430
        },
        "id": "-0xEpAzNGMc1",
        "outputId": "d46fddef-3372-4bc5-951e-e6d24aff2d07"
      },
      "execution_count": 6,
      "outputs": [
        {
          "output_type": "display_data",
          "data": {
            "text/plain": [
              "<Figure size 640x480 with 1 Axes>"
            ],
            "image/png": "[encoded data removed]"
          },
          "metadata": {}
        }
      ]
    },
    {
      "cell_type": "markdown",
      "source": [
        "## **I guess we're good here!**<br>\n",
        "<p align=\"center\"><img src=\"https://i.pinimg.com/originals/70/ea/e4/70eae4f80934ec4949fe3dc64426f0d8.jpg\" width=30%></p>"
      ],
      "metadata": {
        "id": "CusMx0ErJH9-"
      }
    },
    {
      "cell_type": "markdown",
      "source": [
        "### **Now Let's classify things with Logistic Regression!**\n"
      ],
      "metadata": {
        "id": "S99rV5ByQmwg"
      }
    },
    {
      "cell_type": "markdown",
      "source": [
        "### **Logistic Regression:**\n",
        "Logistic regression is used for Binary classification tasks (or for multiclass classification with more than 1 model).<br>\n",
        "It's output equation is written as:<br>\n",
        "\n",
        "$$z = Wx + b$$\n",
        "$$a = {1 \\over 1 + e^{-z}}$$\n",
        "\n",
        "z is an ordinary Linear Regression, while a is just a sigmoid function applied to the linear model<br>\n",
        "We can rewrite it as:<br>\n",
        "$$a = sigmoid(z)$$\n",
        "\n",
        "---\n",
        "\n",
        "For this model we use **log_loss**, not mse, because task is defined differently.<br>\n",
        "Log loss is quite simple and intuitive:<br>\n",
        "$$L(y, \\hat y) = - y log(\\hat y) + (1-y)log(1-\\hat y)$$\n",
        "<br>\n",
        "<img src=\"https://learningds.org/_images/class_loss_9_0.svg\" width=60%><br>\n",
        "if y (y_true) is 1 we work only with $y log(\\hat y)$, because 1-y, being a multiplier for $log(1 - \\hat y)$ is 0 in this case.\n",
        "Left par of the equation (depicted with blue line) is a negative value (but with -1 multiplier, it's positive value) when $\\hat y$ is close to 0, meaning our loss value is high (that's right, as $\\hat y\\approx0$, while $y=1$) and small negative value when $\\hat y \\approx 1$<br>\n",
        "pretty much the same works for right part (when $y=0$)"
      ],
      "metadata": {
        "id": "jhQaCgoEUf89"
      }
    },
    {
      "cell_type": "code",
      "source": [
        "class LogisticRegression:\n",
        "  def __init__(self):\n",
        "    self.weights = None\n",
        "    self.bias = 0\n",
        "\n",
        "  def fit(self, X, y, n=100, lr=0.1, verbose=10):\n",
        "    y = y.reshape(-1, 1)\n",
        "    self.m_samples, n_features = X.shape\n",
        "    self.weights = np.zeros((n_features, 1))\n",
        "\n",
        "    for iter in range(n):\n",
        "      prediction = self.pred(X)\n",
        "      cost = self.cost_fn(y, prediction)\n",
        "      if iter % verbose == 0:\n",
        "        print(cost)\n",
        "      # update\n",
        "      dw = 1 / self.m_samples * np.dot(X.T, (prediction - y))\n",
        "      db = 1 / self.m_samples * np.sum(prediction - y)\n",
        "      self.weights -= lr * dw\n",
        "      self.bias -= lr * db\n",
        "    return self.weights, self.bias\n",
        "\n",
        "  def pred(self, X):\n",
        "    return self.sigmoid(np.dot(X, self.weights) + self.bias)\n",
        "\n",
        "  def cost_fn(self, y, y_pred):\n",
        "    a = y * np.log(y_pred + 1e-7)\n",
        "    b = (1 - y) * np.log(1 - y_pred + 1e-7)\n",
        "\n",
        "    return np.mean(a - b, axis=0)\n",
        "\n",
        "  def sigmoid(self, z):\n",
        "    return 1 / (1 + np.exp(-z))"
      ],
      "metadata": {
        "id": "WH98h-YjIGGF"
      },
      "execution_count": 7,
      "outputs": []
    },
    {
      "cell_type": "code",
      "source": [
        "xs = np.linspace(0, 1, 100).reshape(-1, 1)\n",
        "ys = xs > 0.5\n",
        "print(xs.shape, ys.shape)"
      ],
      "metadata": {
        "colab": {
          "base_uri": "https://localhost:8080/"
        },
        "id": "lC4HiHVeU6w_",
        "outputId": "0b4ad620-56b7-4641-b7d0-48e88e661f34"
      },
      "execution_count": 8,
      "outputs": [
        {
          "output_type": "stream",
          "name": "stdout",
          "text": [
            "(100, 1) (100, 1)\n"
          ]
        }
      ]
    },
    {
      "cell_type": "code",
      "source": [
        "model = LogisticRegression()\n",
        "w, b = model.fit(xs, ys, n=500, verbose=50)"
      ],
      "metadata": {
        "colab": {
          "base_uri": "https://localhost:8080/"
        },
        "id": "e1Mq_S6AS38h",
        "outputId": "834e5739-1607-4cbe-a87b-d2adbf0212f9"
      },
      "execution_count": 9,
      "outputs": [
        {
          "output_type": "stream",
          "name": "stdout",
          "text": [
            "[5.55111512e-17]\n",
            "[0.070754]\n",
            "[0.07540697]\n",
            "[0.06941103]\n",
            "[0.0626319]\n",
            "[0.05666856]\n",
            "[0.0516227]\n",
            "[0.0473567]\n",
            "[0.04372328]\n",
            "[0.04060118]\n"
          ]
        }
      ]
    },
    {
      "cell_type": "code",
      "source": [
        "preds = np.round(model.pred(xs))"
      ],
      "metadata": {
        "id": "ZpeFIO_GWmmi"
      },
      "execution_count": 10,
      "outputs": []
    },
    {
      "cell_type": "code",
      "source": [
        "print(np.mean(preds))  # model predicted a bit more positives, but it's ok\n",
        "plt.scatter(xs, preds, c=preds, cmap='cool', alpha=0.5, label=\"Predictions\")\n",
        "plt.scatter(xs, ys, c=ys, cmap='autumn', alpha=0.5, label=\"Actual\")\n",
        "plt.legend()\n",
        "plt.show()"
      ],
      "metadata": {
        "colab": {
          "base_uri": "https://localhost:8080/",
          "height": 447
        },
        "id": "pZJLALILV73a",
        "outputId": "bbe5c665-50d2-4843-cf86-73e1012b5e1b"
      },
      "execution_count": 11,
      "outputs": [
        {
          "output_type": "stream",
          "name": "stdout",
          "text": [
            "0.54\n"
          ]
        },
        {
          "output_type": "display_data",
          "data": {
            "text/plain": [
              "<Figure size 640x480 with 1 Axes>"
            ],
            "image/png": "[encoded data removed]"
          },
          "metadata": {}
        }
      ]
    },
    {
      "cell_type": "markdown",
      "source": [
        "## **Decision Trees:**<br>\n"
      ],
      "metadata": {
        "id": "kbdmeDNbYLs2"
      }
    },
    {
      "cell_type": "code",
      "source": [
        "class Node:\n",
        "  def __init__(self, feature=None, threshold=None, left=None, right=None, val=None):\n",
        "    self.feature = feature\n",
        "    self.threshold = threshold\n",
        "    self.left = left\n",
        "    self.right = right\n",
        "    self.val = val"
      ],
      "metadata": {
        "id": "zjQpeQzZW2n6"
      },
      "execution_count": 12,
      "outputs": []
    },
    {
      "cell_type": "code",
      "source": [
        "class DecisionTreeClf:\n",
        "  def __init__(self, max_depth=50, min_samples_split=2, n_features=None):\n",
        "    self.max_depth = max_depth\n",
        "    self.min_samples_split = min_samples_split\n",
        "    self.n_features = n_features\n",
        "    self.root = None\n",
        "\n",
        "  def fit(self, X, y):\n",
        "    self.root = self.grow(X, y)\n",
        "\n",
        "  def grow(self, X, y, depth=0):\n",
        "    m_samples, n_feats = X.shape\n",
        "    n_unique = len(set(y))  # number of classes on the side\n",
        "    if depth >= (self.max_depth) or\n",
        "                (m_samples < self.min_samples_split) or\n",
        "                (n_unique == 1):\n",
        "                # return leaf node with value of most frequent class\n",
        "                return Node(val=self.most_freq_class(y))\n",
        "\n",
        "    feature_idcs = np.random.choice(n_feats, self.n_features, replace=True)\n",
        "    feature, threshold = self.best_split(X, y, feature_idcs)\n",
        "    left_idcs, right_idcs = self.split(X[:, feature], threshold)\n",
        "\n",
        "    # left and right subtrees\n",
        "    left = self.grow(X[left_idcs, :], y[left_idcs], depth+1)\n",
        "    right = self.grow(X[right_idcs, :], y[right_idcs], depth+1)\n",
        "\n",
        "    # root:\n",
        "    return Node(feature, threshold, left, right)"
      ],
      "metadata": {
        "id": "AaTsUHXOZ-wP"
      },
      "execution_count": null,
      "outputs": []
    }
  ]
}