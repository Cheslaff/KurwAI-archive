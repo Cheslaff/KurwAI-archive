{
  "nbformat": 4,
  "nbformat_minor": 0,
  "metadata": {
    "colab": {
      "provenance": []
    },
    "kernelspec": {
      "name": "python3",
      "display_name": "Python 3"
    },
    "language_info": {
      "name": "python"
    }
  },
  "cells": [
    {
      "cell_type": "markdown",
      "source": [
        "# **Let's revisit Machine Learning!**\n",
        "### Greates recap of all time!\n",
        "Let's implement and explain most popular ML algorithms from scratch!\n",
        "I hope it's gonna be ez<br> after learning Transformer architecture and GPT<br>\n",
        "<img src=\"https://i.ibb.co/TqW6x7f/MEME.jpg\" width=40%>"
      ],
      "metadata": {
        "id": "zliLCcfb279c"
      }
    },
    {
      "cell_type": "code",
      "source": [
        "import numpy as np\n",
        "import matplotlib.pyplot as plt\n",
        "import pandas as pd"
      ],
      "metadata": {
        "id": "SEyT96m68AAw"
      },
      "execution_count": 97,
      "outputs": []
    },
    {
      "cell_type": "markdown",
      "source": [
        "### **Let's start with a Linear Regression!**\n",
        "#### **Explanation**\n",
        "Linear regression - simplest regression method I guess..<br>\n",
        "It fits the data by learning slope and y-intercept of simple linear function.<br>\n",
        "As in any other algorithm we use Gradient Descent for parameter tuning.<br>\n",
        "In the following code:<br>\n",
        "- lr - learning rate (controls speed of convergance)<br>\n",
        "- cost - error score of model (the lower the better)<br>\n",
        "- dw, db - partial derivatives of cost function w.r.t parameters (weights and bias respecitvely)<br>\n",
        "\n",
        "---\n",
        "specs:<br>\n",
        "loss - mse<br>\n",
        "optimizer - gradient descent<br>"
      ],
      "metadata": {
        "id": "6WIpTE8o7pUl"
      }
    },
    {
      "cell_type": "code",
      "execution_count": 98,
      "metadata": {
        "id": "61U-IFo3257h"
      },
      "outputs": [],
      "source": [
        "class LinearRegression:\n",
        "  def __init__(self):\n",
        "    self.weights = None\n",
        "    self.bias = 0\n",
        "\n",
        "  def fit(self, X, y, n=100, lr=0.1, verbose=10):\n",
        "    y = y.reshape(-1, 1)\n",
        "    # weights initialization to zeros (runs once)\n",
        "    self.m_samples, n_feats = X.shape\n",
        "    self.weights = np.zeros((n_feats, 1))\n",
        "    # training\n",
        "    for iter in range(n):\n",
        "      # prediction + feedback\n",
        "      prediction = self.pred(X)\n",
        "      cost = self.cost_fn(y, prediction)\n",
        "      if iter % verbose == 0:\n",
        "        print(f\"Iteration: {iter} | Loss: {cost}\")\n",
        "      # update\n",
        "      dw = 1 / self.m_samples * np.dot(X.T, (prediction - y))\n",
        "      db = 1 / self.m_samples * np.sum((prediction - y))\n",
        "      self.weights -= lr * dw\n",
        "      self.bias -= lr * db\n",
        "\n",
        "    return self.weights, self.bias\n",
        "\n",
        "  def pred(self, X):\n",
        "    return (np.dot(X, self.weights) + self.bias).reshape(-1, 1)\n",
        "\n",
        "  def cost_fn(self, y, y_pred):\n",
        "    # mean squared error used\n",
        "    return 1 / self.m_samples * np.sum((y - y_pred) ** 2)"
      ]
    },
    {
      "cell_type": "code",
      "source": [
        "# generate dataset\n",
        "xs = np.random.random((100, 1))\n",
        "ys = xs * 2 + 1  # our w=2 and b=1\n",
        "\n",
        "\n",
        "plt.scatter(xs, ys);"
      ],
      "metadata": {
        "colab": {
          "base_uri": "https://localhost:8080/",
          "height": 430
        },
        "id": "h5L5_hhmBZjc",
        "outputId": "f59e4979-3986-45c9-b7b9-7bffc34c83be"
      },
      "execution_count": 99,
      "outputs": [
        {
          "output_type": "display_data",
          "data": {
            "text/plain": [
              "<Figure size 640x480 with 1 Axes>"
            ],
            "image/png": "[encoded data removed]"
          },
          "metadata": {}
        }
      ]
    },
    {
      "cell_type": "code",
      "source": [
        "model = LinearRegression()\n",
        "w, b = model.fit(xs, ys, n=500, verbose=50)\n",
        "print(w, b)"
      ],
      "metadata": {
        "colab": {
          "base_uri": "https://localhost:8080/"
        },
        "id": "2cfXnfhlB3el",
        "outputId": "8048e7c2-17ea-496c-aed0-802526ac2898"
      },
      "execution_count": 100,
      "outputs": [
        {
          "output_type": "stream",
          "name": "stdout",
          "text": [
            "Iteration: 0 | Loss: 4.089320856453407\n",
            "Iteration: 50 | Loss: 0.06049264872161619\n",
            "Iteration: 100 | Loss: 0.031549707721483695\n",
            "Iteration: 150 | Loss: 0.01645662301252198\n",
            "Iteration: 200 | Loss: 0.008583928684321437\n",
            "Iteration: 250 | Loss: 0.004477457592693831\n",
            "Iteration: 300 | Loss: 0.0023354838130224148\n",
            "Iteration: 350 | Loss: 0.0012182102293476073\n",
            "Iteration: 400 | Loss: 0.0006354298645155694\n",
            "Iteration: 450 | Loss: 0.0003314461683140738\n",
            "[[1.95388665]] 1.023207130056473\n"
          ]
        }
      ]
    },
    {
      "cell_type": "code",
      "source": [
        "xp = np.linspace(0, 1, 100).reshape(-1, 1)\n",
        "yp = model.pred(xp)"
      ],
      "metadata": {
        "id": "GzMDV8UhCnP0"
      },
      "execution_count": 101,
      "outputs": []
    },
    {
      "cell_type": "code",
      "source": [
        "plt.scatter(xs, ys)\n",
        "plt.plot(xp, yp, c=\"red\");"
      ],
      "metadata": {
        "colab": {
          "base_uri": "https://localhost:8080/",
          "height": 430
        },
        "id": "-0xEpAzNGMc1",
        "outputId": "c8e5f71d-a765-46c5-b446-6d220d7e5f88"
      },
      "execution_count": 102,
      "outputs": [
        {
          "output_type": "display_data",
          "data": {
            "text/plain": [
              "<Figure size 640x480 with 1 Axes>"
            ],
            "image/png": "[encoded data removed]"
          },
          "metadata": {}
        }
      ]
    },
    {
      "cell_type": "markdown",
      "source": [
        "## **I guess we're good here!**<br>\n",
        "<p align=\"center\"><img src=\"https://i.pinimg.com/originals/70/ea/e4/70eae4f80934ec4949fe3dc64426f0d8.jpg\" width=30%></p>"
      ],
      "metadata": {
        "id": "CusMx0ErJH9-"
      }
    },
    {
      "cell_type": "markdown",
      "source": [
        "### **Now Let's classify things with Logistic Regression!**\n"
      ],
      "metadata": {
        "id": "S99rV5ByQmwg"
      }
    },
    {
      "cell_type": "markdown",
      "source": [
        "### **Logistic Regression:**\n",
        "Logistic regression is used for Binary classification tasks (or for multiclass classification with more than 1 model).<br>\n",
        "It's output equation is written as:<br>\n",
        "\n",
        "$$z = Wx + b$$\n",
        "$$a = {1 \\over 1 + e^{-z}}$$\n",
        "\n",
        "z is an ordinary Linear Regression, while a is just a sigmoid function applied to the linear model<br>\n",
        "We can rewrite it as:<br>\n",
        "$$a = sigmoid(z)$$\n",
        "\n",
        "---\n",
        "\n",
        "For this model we use **log_loss**, not mse, because task is defined differently.<br>\n",
        "Log loss is quite simple and intuitive:<br>\n",
        "$$L(y, \\hat y) = - y log(\\hat y) + (1-y)log(1-\\hat y)$$\n",
        "<br>\n",
        "<img src=\"https://learningds.org/_images/class_loss_9_0.svg\" width=60%><br>\n",
        "if y (y_true) is 1 we work only with $y log(\\hat y)$, because 1-y, being a multiplier for $log(1 - \\hat y)$ is 0 in this case.\n",
        "Left par of the equation (depicted with blue line) is a negative value (but with -1 multiplier, it's positive value) when $\\hat y$ is close to 0, meaning our loss value is high (that's right, as $\\hat y\\approx0$, while $y=1$) and small negative value when $\\hat y \\approx 1$<br>\n",
        "pretty much the same works for right part (when $y=0$)"
      ],
      "metadata": {
        "id": "jhQaCgoEUf89"
      }
    },
    {
      "cell_type": "code",
      "source": [
        "class LogisticRegression:\n",
        "  def __init__(self):\n",
        "    self.weights = None\n",
        "    self.bias = 0\n",
        "\n",
        "  def fit(self, X, y, n=100, lr=0.1, verbose=10):\n",
        "    y = y.reshape(-1, 1)\n",
        "    self.m_samples, n_features = X.shape\n",
        "    self.weights = np.zeros((n_features, 1))\n",
        "\n",
        "    for iter in range(n):\n",
        "      prediction = self.pred(X)\n",
        "      cost = self.cost_fn(y, prediction)\n",
        "      if iter % verbose == 0:\n",
        "        print(cost)\n",
        "      # update\n",
        "      dw = 1 / self.m_samples * np.dot(X.T, (prediction - y))\n",
        "      db = 1 / self.m_samples * np.sum(prediction - y)\n",
        "      self.weights -= lr * dw\n",
        "      self.bias -= lr * db\n",
        "    return self.weights, self.bias\n",
        "\n",
        "  def pred(self, X):\n",
        "    return self.sigmoid(np.dot(X, self.weights) + self.bias)\n",
        "\n",
        "  def cost_fn(self, y, y_pred):\n",
        "    a = y * np.log(y_pred + 1e-7)\n",
        "    b = (1 - y) * np.log(1 - y_pred + 1e-7)\n",
        "\n",
        "    return np.mean(a - b, axis=0)\n",
        "\n",
        "  def sigmoid(self, z):\n",
        "    return 1 / (1 + np.exp(-z))"
      ],
      "metadata": {
        "id": "WH98h-YjIGGF"
      },
      "execution_count": 103,
      "outputs": []
    },
    {
      "cell_type": "code",
      "source": [
        "xs = np.linspace(0, 1, 100).reshape(-1, 1)\n",
        "ys = xs > 0.5\n",
        "print(xs.shape, ys.shape)"
      ],
      "metadata": {
        "colab": {
          "base_uri": "https://localhost:8080/"
        },
        "id": "lC4HiHVeU6w_",
        "outputId": "376da0d2-ce09-42ba-95c5-953063917724"
      },
      "execution_count": 104,
      "outputs": [
        {
          "output_type": "stream",
          "name": "stdout",
          "text": [
            "(100, 1) (100, 1)\n"
          ]
        }
      ]
    },
    {
      "cell_type": "code",
      "source": [
        "model = LogisticRegression()\n",
        "w, b = model.fit(xs, ys, n=500, verbose=50)"
      ],
      "metadata": {
        "colab": {
          "base_uri": "https://localhost:8080/"
        },
        "id": "e1Mq_S6AS38h",
        "outputId": "826368d9-ba00-4417-90cf-a65570a4ac91"
      },
      "execution_count": 105,
      "outputs": [
        {
          "output_type": "stream",
          "name": "stdout",
          "text": [
            "[5.55111512e-17]\n",
            "[0.070754]\n",
            "[0.07540697]\n",
            "[0.06941103]\n",
            "[0.0626319]\n",
            "[0.05666856]\n",
            "[0.0516227]\n",
            "[0.0473567]\n",
            "[0.04372328]\n",
            "[0.04060118]\n"
          ]
        }
      ]
    },
    {
      "cell_type": "code",
      "source": [
        "preds = np.round(model.pred(xs))"
      ],
      "metadata": {
        "id": "ZpeFIO_GWmmi"
      },
      "execution_count": 106,
      "outputs": []
    },
    {
      "cell_type": "code",
      "source": [
        "print(np.mean(preds))  # model predicted a bit more positives, but it's ok\n",
        "plt.scatter(xs, preds, c=preds, cmap='cool', alpha=0.5, label=\"Predictions\")\n",
        "plt.scatter(xs, ys, c=ys, cmap='autumn', alpha=0.5, label=\"Actual\")\n",
        "plt.legend()\n",
        "plt.show()"
      ],
      "metadata": {
        "colab": {
          "base_uri": "https://localhost:8080/",
          "height": 447
        },
        "id": "pZJLALILV73a",
        "outputId": "7bf6704d-ae91-41dd-d362-29b3fe0b18c9"
      },
      "execution_count": 107,
      "outputs": [
        {
          "output_type": "stream",
          "name": "stdout",
          "text": [
            "0.54\n"
          ]
        },
        {
          "output_type": "display_data",
          "data": {
            "text/plain": [
              "<Figure size 640x480 with 1 Axes>"
            ],
            "image/png": "[encoded data removed]"
          },
          "metadata": {}
        }
      ]
    },
    {
      "cell_type": "markdown",
      "source": [
        "## **Decision Trees:**<br>\n",
        "This algorithm can be used for both classification and regression tasks(of course with some minor diferences).<br>\n",
        "It makes predictions by learning best **split features** and threshold for these featrues.<br> It recursively builds a tree of \"questions\" that split our data.<br>\n",
        "Prediction is performed by traversing tree **Depth first** and returning leaf node value.<br>\n",
        "Leaf node value equals to most frequent category (classification) or mean of target values on the node (regression).<br>\n",
        "<img src=\"https://miro.medium.com/v2/resize:fit:1042/0*TBAmo7IbkCOaXuxV.png\" width=60%>\n",
        "\n",
        "---\n",
        "\n",
        "### **How do we learn splits?**\n",
        "We try all features and measure their **information gain** with a particular threshold.<br>\n",
        "For categorical feature we try all its unique values as a threshold, for continuous feature we trt **midpoints** of sorted set of its values.<br>\n",
        "[0, 1, 4, 6, 7] - sorted feature values<br>\n",
        "[0.5, 2.5, 5, 6.5] - midpoints<br>\n",
        "\n",
        "We pick feature with highest information gain\n",
        "\n",
        "---\n",
        "\n",
        "### **Information gain?**\n",
        "We want to pick feature that splits data with **maximum purity** (for classification task), meaning it splits target feature really well.<br>\n",
        "We can calculate purity with **entropy function** depicted below:<br>\n",
        "<img src=\"https://upload.wikimedia.org/wikipedia/commons/2/22/Binary_entropy_plot.svg\" width=40%><br>\n",
        "As you can see this function takes ratio of 1 of the target categories.<br>\n",
        "We want to **minimize this entropy function**, as it returns minimum value for ratio of either 0 or 1.<br>\n",
        "We calculate weighted sum of entropy values on both sides.<br>\n",
        "We weight it by ratio of elements on each side (so they add up to 1.0)<br>\n",
        "Finally, we subtract this weighted sum from entropy of root node.<br>\n",
        "This is information gain.<br>\n",
        "### Entropy:<br>\n",
        "$$E = -\\sum_{i=0}{P_i(x)log_2(P_i(x))}$$\n",
        "### Information Gain:<br>\n",
        "$$E_{root} - ((n_l / n)E_{left} + (n_r / n)E_{right})$$\n",
        "\n",
        "---\n",
        "## **General Sherman - the biggest tree in the world**\n",
        "<img src=\"https://onetreeplanted.org/cdn/shop/files/pf-f38c8ac1--General-Sherman-tree.jpg?v=1685623908\" width=30%><br>\n",
        "But we don't want our tree to grow this tall, because tall tree = overfitted tree<br>\n",
        "We stop growing depth of our tree with the following base cases:<br>\n",
        "1) MaxDepth - hyperparameter that limits depth of our tree<br>\n",
        "2) MinSamplesSplit - hyperparameter that sets minimum number of samples in the node to continue split<br>\n",
        "3) Only 1 target class in the node (100% purity)"
      ],
      "metadata": {
        "id": "kbdmeDNbYLs2"
      }
    },
    {
      "cell_type": "code",
      "source": [
        "class Node:\n",
        "  def __init__(self, feature=None, threshold=None, left=None, right=None, val=None):\n",
        "    self.feature = feature\n",
        "    self.threshold = threshold\n",
        "    self.left = left\n",
        "    self.right = right\n",
        "    self.val = val\n",
        "\n",
        "  def is_leaf(self):\n",
        "    return not self.val is None"
      ],
      "metadata": {
        "id": "zjQpeQzZW2n6"
      },
      "execution_count": 108,
      "outputs": []
    },
    {
      "cell_type": "code",
      "source": [
        "class DecisionTreeClassifier:\n",
        "  def __init__(self, max_depth=50, min_samples_split=2, n_features=None):\n",
        "    self.loss_history = []\n",
        "    self.max_depth = max_depth\n",
        "    self.min_samples_split = min_samples_split\n",
        "    self.n_features = n_features\n",
        "    self.root = None\n",
        "\n",
        "  def fit(self, X, y):\n",
        "    self.n_features = X.shape[1] if not self.n_features else min(X.shape[1], self.n_features)\n",
        "    self.root = self.grow(X, y)\n",
        "\n",
        "  def grow(self, X, y, cur_depth=0):\n",
        "    n_samples, n_features = X.shape\n",
        "    n_labels = len(np.unique(y))\n",
        "\n",
        "    # base case\n",
        "    if (cur_depth >= self.max_depth) or (n_samples < self.min_samples_split) or (n_labels == 1):\n",
        "      return Node(val=self.most_common_category(y))\n",
        "\n",
        "    feature_indices = np.random.choice(n_features, self.n_features,\n",
        "                                        replace=True)  # n_features may not be equal to self.n_features\n",
        "    split_feature, split_threshold = self.best_split(X, y, feature_indices)\n",
        "\n",
        "    # left and right:\n",
        "\n",
        "    left_indices, right_indices = self.split(X[:, split_feature], split_threshold)\n",
        "    left = self.grow(X[left_indices, :], y[left_indices], cur_depth + 1)\n",
        "    right = self.grow(X[right_indices, :], y[right_indices], cur_depth + 1)\n",
        "\n",
        "    return Node(split_feature, split_threshold, left, right)\n",
        "\n",
        "  def best_split(self, X, y, feature_indices):\n",
        "    information_gain = -1\n",
        "    split_feature_index, best_threshold = None, None\n",
        "\n",
        "    for feature_index in feature_indices:\n",
        "      X_col = X[:, feature_index]\n",
        "      thresholds = np.unique(X_col)\n",
        "\n",
        "      for threshold in thresholds:\n",
        "        ig = self.information_gain(X_col, y, threshold)\n",
        "\n",
        "        if ig > information_gain:\n",
        "          information_gain = ig\n",
        "          split_feature_index = feature_index\n",
        "          best_threshold = threshold\n",
        "    return split_feature_index, best_threshold\n",
        "\n",
        "  def information_gain(self, X_col, y, threshold):\n",
        "    parent_e = self.entropy(y)\n",
        "\n",
        "    # create_children\n",
        "    left_indices, right_indices = self.split(X_col, threshold)\n",
        "\n",
        "    # weighted entropy for children\n",
        "    n = len(y)\n",
        "    n_l, n_r = len(left_indices), len(right_indices)\n",
        "    e_l, e_r = self.entropy(y[left_indices]), self.entropy(y[right_indices])\n",
        "    child_entropy = (n_l / n) * e_l + (n_r / n) * e_r\n",
        "\n",
        "    return parent_e - child_entropy\n",
        "\n",
        "  def entropy(self, y_values):\n",
        "    p_s = np.bincount(y_values) / len(y_values)\n",
        "    return -np.sum([p * np.log(p) for p in p_s if p > 0])\n",
        "\n",
        "  def split(self, X_col, threshold):\n",
        "    left_indices = np.argwhere(X_col <= threshold).flatten()\n",
        "    right_indices = np.argwhere(X_col > threshold).flatten()\n",
        "\n",
        "    return left_indices, right_indices\n",
        "\n",
        "  def most_common_category(self, y):\n",
        "    counts = np.bincount(y)\n",
        "    return np.argmax(counts)\n",
        "\n",
        "  def traverse_tree(self, x, node):\n",
        "    # leaf node:\n",
        "    if node.is_leaf():\n",
        "        return node.val\n",
        "\n",
        "    if x[node.feature] <= node.threshold:\n",
        "        return self.traverse_tree(x, node.left)\n",
        "    return self.traverse_tree(x, node.right)\n",
        "\n",
        "  def predict(self, X):\n",
        "    return [self.traverse_tree(x, self.root) for x in X]\n"
      ],
      "metadata": {
        "id": "AaTsUHXOZ-wP"
      },
      "execution_count": 109,
      "outputs": []
    },
    {
      "cell_type": "code",
      "source": [
        "ys = ys.flatten().astype(\"int\")\n",
        "tree = DecisionTreeClassifier()\n",
        "tree.fit(xs, ys)"
      ],
      "metadata": {
        "id": "n2dTCgEC3oJe"
      },
      "execution_count": 110,
      "outputs": []
    },
    {
      "cell_type": "code",
      "source": [
        "preds = tree.predict(xs)"
      ],
      "metadata": {
        "id": "X4UJYlopYbjH"
      },
      "execution_count": 111,
      "outputs": []
    },
    {
      "cell_type": "code",
      "source": [
        "print(np.mean(preds))  # model predicted a bit more positives, but it's ok\n",
        "plt.scatter(xs, preds, c=preds, cmap='cool', alpha=0.5, label=\"Predictions\")\n",
        "plt.scatter(xs, ys, c=ys, cmap='autumn', alpha=0.5, label=\"Actual\")\n",
        "plt.legend()\n",
        "plt.show()"
      ],
      "metadata": {
        "colab": {
          "base_uri": "https://localhost:8080/",
          "height": 447
        },
        "id": "wv3pjxvzdTzw",
        "outputId": "0242e8c8-41aa-4e72-c227-70d40c25e7ae"
      },
      "execution_count": 112,
      "outputs": [
        {
          "output_type": "stream",
          "name": "stdout",
          "text": [
            "0.5\n"
          ]
        },
        {
          "output_type": "display_data",
          "data": {
            "text/plain": [
              "<Figure size 640x480 with 1 Axes>"
            ],
            "image/png": "[encoded data removed]"
          },
          "metadata": {}
        }
      ]
    },
    {
      "cell_type": "markdown",
      "source": [
        "<img src=\"https://resizing.flixster.com/cWiU0D9GnfmWAE4GY3EcklntMTo=/375x210/v2/https://statcdn.fandango.com/MPX/image/NBCU_Fandango/79/250/thumb_AC3E8332-BDAE-4BCC-88E6-7885FF452732.jpg\" width=40%><br>\n",
        "**P E R F E C T**"
      ],
      "metadata": {
        "id": "Qb0FcbH0f6Pi"
      }
    },
    {
      "cell_type": "markdown",
      "source": [
        "## **Random Forest**\n",
        "What is better than one Decision Tree?<br>\n",
        "**Ensemble of decision trees!**\n",
        "Yep, it's just multiple decison trees that are trained on **random parts** of the data. On prediction we pass the data through all trees and pick the most frequent category prediction (for classification) or mean of predictions (for regression).<br>\n",
        "In random forests we grow smaller trees fixing overfitting and improving quality.<br>\n",
        "ENSEMBLES - models that include combining/stacking multiple simpler models!<br>\n",
        "<img src=\"https://miro.medium.com/v2/resize:fit:592/1*i0o8mjFfCn-uD79-F1Cqkw.png\" width=60%><br>\n",
        "\n",
        "### **But how do we build different decision trees?**\n",
        "Shouldn't algorithm build identical trees?<br>\n",
        "To build different trees we use randomly picked k features (not all).\n",
        "Usually we pick $k = \\sqrt{n}$\n",
        "It is performed with **SAMPLING WITH REPLACEMENT**<br>\n",
        "<img src=\"https://miro.medium.com/v2/resize:fit:720/0*aElaUl23J2Nwd7Fg.png\" width=50%>"
      ],
      "metadata": {
        "id": "n1H7xPmUsdKx"
      }
    },
    {
      "cell_type": "code",
      "source": [],
      "metadata": {
        "id": "XsneBRvfd9_4"
      },
      "execution_count": 112,
      "outputs": []
    }
  ]
}