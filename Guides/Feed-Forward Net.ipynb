{
 "cells": [
  {
   "cell_type": "markdown",
   "metadata": {},
   "source": [
    "## **Let's dive deep into Feed-Forward Networks!**\n",
    "🦫KURW.AI💗\n",
    "\n",
    "---\n",
    "\n",
    "Venchislaw 2024."
   ]
  },
  {
   "cell_type": "markdown",
   "metadata": {},
   "source": [
    "### 1) Intro for Nerds\n",
    "---\n",
    "\n",
    "Human brain is incredible.<br>\n",
    "It can learn complex patterns by building complex neuron connections.<br>\n",
    "Yet we don't 100% now how brain works, we can build digital model of neuron and __network of neurons__<br>\n",
    "To build digital model of Neuron we should understand how biological one works.<br>\n",
    "I'm not a neuro-scientist, but I remember biology lesson at school about neurons<br>\n",
    "<img src=\"https://miro.medium.com/v2/resize:fit:1400/1*K1ee1SzB0lxjIIo7CGI7LQ.png\" width=30%><br>\n",
    "Ommiting biological details we can describe neuron in few words as a cell recieving information with dendrites from past neurons and either \"firing\" electrical signal or not. Neuron then passes its processed information with synapses to the following neurons.<br>\n",
    "Once again, model requires simplification, so we can look at a neuron as at a \"tiny unit that intakes some information and returns processed inputs.<br>\n",
    "The only question is \"processing\".<br>\n",
    "What should we do?<br>\n",
    "Neural Network consists of neurons, so it's better to think about one single unit.<br>"
   ]
  },
  {
   "cell_type": "markdown",
   "metadata": {},
   "source": [
    "### 2) Neuron Model\n",
    "\n",
    "---\n",
    "\n",
    "To the moment of building neuran model humanity was already aware of \"linear models\".<br>\n",
    "That's exactly what scientists decided to use.<br>\n",
    "For the model of neuron they picked linear model with \"activation function\" applied to it.<br>\n",
    "If you don't remember how linear model looks I can remind you quickly:<br>\n",
    "$$a = \\sum^n_{i=0} \\theta _ix_i$$\n",
    "where $x_0 = 1$ (to learn bias)<br>\n",
    "What is this \"activation function\"?<br>\n",
    "Biological Neuron is binary, it's either on or off.<br>\n",
    "Activation Function in this case is a __step function__.<br>\n",
    "It's 1 for input > threshold and 0 for input < threshold.<br>\n",
    "<img src=\"https://upload.wikimedia.org/wikipedia/commons/thumb/a/ac/HardLimitFunction.png/400px-HardLimitFunction.png\" width=30%><br>\n",
    "As you can see from this picture we have a 0 threshold.<br>\n",
    "However, custom threshold is not a problem for us.<br>\n",
    "**Threshold = - bias**\n",
    "This is to say, our linear computation already includes threshold.<br>"
   ]
  },
  {
   "cell_type": "markdown",
   "metadata": {},
   "source": [
    "### 3) Perceptron\n",
    "\n",
    "Perceptron is the first model of biological neuron.<br>\n",
    "Invented in 1958 it applied all practices described above with a pretty interesting learning rule.<br>\n",
    "Perceptron model is used for supervised binary classification task.<br>\n",
    "__How it works:__<br>\n",
    "It does absolutely the same thing, but to tune hyperparameters it follows the following rule:<br>\n",
    "- If prediction is correct (1-1 or 0-0) we do not change weights\n",
    "- If prediction is wrong:\n",
    "- - False Positive:<br>\n",
    "        This means our linear output is over the threshold<br>\n",
    "        We subtract scaled input feature vector from parameters<br>\n",
    "- - False Negative:<br>\n",
    "        This means our linear output is under the threshold<br>\n",
    "        We add up scaled input feature vector to parameters<br>\n",
    "\n",
    "**NOTE: Perceptron process each sample individually.**<br>\n",
    "This method tunes parameters close enough to the desired values.<br>\n",
    "### Let's build one!"
   ]
  },
  {
   "cell_type": "code",
   "execution_count": 1,
   "metadata": {},
   "outputs": [],
   "source": [
    "import numpy as np\n",
    "import matplotlib.pyplot as plt"
   ]
  },
  {
   "cell_type": "code",
   "execution_count": 2,
   "metadata": {},
   "outputs": [
    {
     "name": "stdout",
     "output_type": "stream",
     "text": [
      "Shapes:\n",
      "(1000, 10) (1000,)\n",
      "==================================================\n",
      "[[ 0.66698806  0.02581308 -0.77761941  0.94863382  0.70167179 -1.05108156\n",
      "  -0.36754812 -1.13745969 -1.32214752  1.77225828]\n",
      " [-0.34745899  0.67014016  0.32227152  0.06034293 -1.04345    -1.00994188\n",
      "   0.44173637  1.12887685 -1.83806777 -0.93876863]\n",
      " [-0.20184052  1.04537128  0.53816197  0.81211867  0.2411063  -0.95250953\n",
      "  -0.13626676  1.26724821  0.17363364 -1.22325477]\n",
      " [ 1.41531998  0.45771098  0.72887584  1.96843473 -0.54778801 -0.67941827\n",
      "  -2.50623032  0.14696049  0.60619549 -0.02253889]\n",
      " [ 0.01342226  0.93594489  0.42062266  0.41161964 -0.07132392 -0.04543758\n",
      "   1.04088597 -0.09403473 -0.42084395 -0.55198856]] [0 0 1 0 1]\n",
      "==================================================\n",
      "[[  0 478]\n",
      " [  1 522]]\n"
     ]
    }
   ],
   "source": [
    "\"\"\"\n",
    "Here I generate simple dummy dataset.<br>\n",
    "\"\"\"\n",
    "np.random.seed(23)\n",
    "\n",
    "num_samples = 1000\n",
    "num_features = 10\n",
    "\n",
    "X = np.random.randn(num_samples, num_features)\n",
    "weights = np.random.randn(num_features)\n",
    "bias = 0.5\n",
    "y = (np.dot(X, weights) + bias > 0).astype(int)\n",
    "\n",
    "print(\"Shapes:\")\n",
    "print(X.shape, y.shape)\n",
    "print(\"=\"*50)\n",
    "print(X[:5], y[:5])\n",
    "print(\"=\"*50)\n",
    "unique, counts = np.unique(y, return_counts=True)\n",
    "print(np.asarray((unique, counts)).T)"
   ]
  },
  {
   "cell_type": "code",
   "execution_count": 3,
   "metadata": {},
   "outputs": [],
   "source": [
    "\"\"\"\n",
    "And Here I build Perceptron Neuron!\n",
    "\"\"\"\n",
    "\n",
    "class Perceptron:\n",
    "    def __init__(self):\n",
    "        self.bias = 0\n",
    "\n",
    "    def fit(self, X, y):\n",
    "        self.weights = np.zeros((1, X.shape[1]))\n",
    "\n",
    "        for sample in zip(X, y):\n",
    "            prediction = np.dot(self.weights, sample[0]) + self.bias\n",
    "            activated = prediction > 0\n",
    "\n",
    "            self.weights += (sample[1] - activated) * sample[0]\n",
    "            self.bias += (sample[1] - activated) * 1\n",
    "        \n",
    "        return self.weights, self.bias\n",
    "    \n",
    "    def predict(self, X):\n",
    "        prediction = np.dot(self.weights, X.T) + self.bias\n",
    "        return np.array(prediction > 0).astype(int)"
   ]
  },
  {
   "cell_type": "code",
   "execution_count": 4,
   "metadata": {},
   "outputs": [
    {
     "data": {
      "text/plain": [
       "(array([[-13.58053614,  -0.07006142,  -0.82743697,  10.69942632,\n",
       "           1.26320988,  -8.41174634,   2.87887913,  -6.40411674,\n",
       "           6.93203191,  -4.31050118]]),\n",
       " array([2]))"
      ]
     },
     "execution_count": 4,
     "metadata": {},
     "output_type": "execute_result"
    }
   ],
   "source": [
    "perceptron = Perceptron()\n",
    "perceptron.fit(X, y)"
   ]
  },
  {
   "cell_type": "code",
   "execution_count": 5,
   "metadata": {},
   "outputs": [],
   "source": [
    "y_pred = perceptron.predict(X).flatten()"
   ]
  },
  {
   "cell_type": "code",
   "execution_count": 6,
   "metadata": {},
   "outputs": [
    {
     "name": "stdout",
     "output_type": "stream",
     "text": [
      "73\n"
     ]
    }
   ],
   "source": [
    "wrong = 0\n",
    "for pair in zip(y, y_pred):\n",
    "    if pair[0] != pair[1]:\n",
    "        wrong += 1\n",
    "    \n",
    "print(wrong)"
   ]
  },
  {
   "cell_type": "markdown",
   "metadata": {},
   "source": [
    "73 Misclassifications are not bad, but...<br>\n",
    "This is the training set it's seen."
   ]
  },
  {
   "cell_type": "markdown",
   "metadata": {},
   "source": [
    "### 4) Weakness of Perceptrons.\n",
    "\n",
    "Perceptrons are not suitable for neural networks.<br>\n",
    "1) Good Weights do not guarantee good outputs.\n",
    "2) Sample-by-sample processing is inefficient for larger scale\n",
    "3) Learning Rule of perceptron can not be scaled for multi-layer architecture (of a neural net)\n",
    "\n",
    "You can hear people calling Feed-Forward Neural Network an **MLP (Multi-Layer Perceptron)**, but it's wrong<br>\n",
    "They have nothing to do with Perceptron unit.<br>\n",
    "This is one of those historical-convention naming issues (like one with Logistic Regression).<br>\n",
    "They use gradient-descent for updates and the chain rule...<br>\n",
    "Oops, spoiler here!"
   ]
  },
  {
   "cell_type": "markdown",
   "metadata": {},
   "source": [
    "### 5) Linear Model with fancy activators.\n",
    "\n",
    "Lineaar Model is simple enough.<br>\n",
    "Instead of *weird* learning algorithm of Perceptron we use Gradient Descent optimization.<br>\n",
    "However, our step activation function is too sharp (its derivation is 0)<br>\n",
    "To address this issue scientists used to use sigmoid function (function returning values between 0 and 1)<br>\n",
    "Its outputs can be interpreted as probabilities of positive class.<br>\n",
    "$$a = {1 \\over {1 + e^{-z}}}$$"
   ]
  },
  {
   "cell_type": "code",
   "execution_count": 7,
   "metadata": {},
   "outputs": [
    {
     "data": {
      "image/png": "[encoded data removed]",
      "text/plain": [
       "<Figure size 640x480 with 1 Axes>"
      ]
     },
     "metadata": {},
     "output_type": "display_data"
    }
   ],
   "source": [
    "z = np.arange(-5, 5, 0.1)\n",
    "a = 1 / (1 + np.exp(-z))\n",
    "\n",
    "plt.title(\"Sigmoid\")\n",
    "plt.xlabel(\"z\")\n",
    "plt.ylabel(\"a\")\n",
    "plt.grid()\n",
    "plt.plot(z, a, c=\"red\");"
   ]
  },
  {
   "cell_type": "markdown",
   "metadata": {},
   "source": [
    "I'm not sure if it's safe enough to call sigmoid **smoother** version of step function, but I'll take this risk.<br>\n",
    "I just can't ignore their similarity.<br>\n",
    "However, another activation function called **ReLU** (Rectified Linear Unit) appeared to work better<br>\n",
    "We can think of it as of step function with continuous values above threshold."
   ]
  },
  {
   "cell_type": "code",
   "execution_count": 8,
   "metadata": {},
   "outputs": [
    {
     "data": {
      "image/png": "[encoded data removed]",
      "text/plain": [
       "<Figure size 640x480 with 1 Axes>"
      ]
     },
     "metadata": {},
     "output_type": "display_data"
    }
   ],
   "source": [
    "a = np.maximum(z, 0)\n",
    "\n",
    "plt.title(\"ReLU\")\n",
    "plt.xlabel(\"z\")\n",
    "plt.ylabel(\"a\")\n",
    "plt.grid()\n",
    "plt.plot(z, a, c=\"red\");"
   ]
  },
  {
   "cell_type": "markdown",
   "metadata": {},
   "source": [
    "Derivation is simple and practical.<br>\n",
    "It's 1 for values above 0 and 0 for values under 0.<br>\n",
    "This property prevents gradient vanishing (with values in range 0 to 1 it is a problem).<br>\n",
    "\n",
    "I don't think it worth building this neuron in vacuum.<br>\n",
    "Because it's a simple linear model (quite simmilar to logistic regression)"
   ]
  },
  {
   "cell_type": "markdown",
   "metadata": {},
   "source": [
    "### 6) Let's Put it all together.\n",
    "\n",
    "Now we now all nerdy stuff.<br>\n",
    "This is the core part, where we build Feed-Forward Neural Network from scratch.<br>\n",
    "\n",
    "---\n",
    "**ARCHITECTURE**\n",
    "Feed-Forward Neural Networks are built of stacked dense layers.<br>\n",
    "Each layer consists of linear neuron units(discussed above) with some activation function.<br>\n",
    "Each Neuron in layer recieves outputs of all neurons from the past layer as input and returns one value.<br>\n",
    "This value is passed as input to all neurons in the next layer.<br>\n",
    "NOTE: Neurons in layer are not connected to each other.<br>\n",
    "<img src=\"https://mukulrathi.com/static/648e5207805f95bf09c330a43d89d295/f207c/neural-net.png\" width=50%><br>\n",
    "\n",
    "---\n",
    "**MATH DETAILS**\n",
    "Feed-Forward Network learning process includes 2 parts: forward propagation & backward propagation.<br>\n",
    "On forward pass we make all calculations to make a prediction.<br>\n",
    "On backward pass we compare our prediction with desired output and tune parameters to get better prediction on the next forward pass.<br>\n",
    "Let's find out where these names come from!<br>\n",
    "#### Forward Propagation:\n",
    "To simplify explanation let's go through the network depicted above.<br>\n",
    "It consists of 3 layers (typically we do not count input layer).<br>\n",
    "3 Neurons in input layers mean we take 3 features for input (like area, condition, floors for house pricing prediction task).<br>\n",
    "Then we have 2 hidden layers with 4 neurons in each.<br>\n",
    "These layers are called hidden, because we can see their outputs.<br>\n",
    "These sting-like connections are our weights.<br>\n",
    "It makes sense, because for 4 neurons each recieving 3 features as input we need 12 weights.<br>\n",
    "To each neuron we pass 3 features scaled by corresponding 3 weights. Then we add bias.<br>\n",
    "Raw linear output is calculated as:<br>\n",
    "$$z = \\sum_i^n{w_ix_i} + b$$\n",
    "Activated value is:<br>\n",
    "$$a = ReLU(z) = max(0, z)$$\n",
    "_VECTORIZATION_\n",
    "Remember, we work with bunch of neurons and... multiple samples ($m$)<br>\n",
    "SHAPES:<br>\n",
    "Weights are represented with matrix with (n_neurons, n_inputs) for layer.<br>\n",
    "For example, for the 1st layer it's (4, 3) - 4 neurons in this layer with 3 neurons passed as input.<br>\n",
    "Input data shape is (m_samples, n_features) **BUT!** For mathematical convenience we're gonna use Transpose of input, so it's (n_features, m_samples).<br>\n",
    "Biases are vectors of shape (n_neurons,)<br>\n",
    "Output Z has a shape of (n_neurons, m_samples)<br>\n",
    "Z Calculation:<br>\n",
    "For each neuron we take inputs, scale them by corresponding weights and add them up (and add bias of course)<br>\n",
    "For n_neurons it is a dot product!<br>\n",
    "<img src=\"https://miro.medium.com/v2/resize:fit:1400/1*WU7efDAqEb_tKFg2DaOwhA.png\" width=40%><br>\n",
    "LAYER 1:\n",
    "$$Z_1 = WX + b1$$\n",
    "W shape: (n_neurons, n_features)<br>\n",
    "X shape: (n_features, m_samlpes)<br>\n",
    "Z shape: (n_neurons, m_samples) - outer shape.<br>\n",
    "This implies for the 2nd neuron.<br>\n",
    "$$A_1 = ReLU(Z)$$\n",
    "LAYER 2:\n",
    "$$Z_2 = W_2A_1 + b2$$\n",
    "$$A_2 = ReLU(Z_2)$$\n",
    "But here instead of input data we intake outputs of the first neuron.<br>\n",
    "\n",
    "On Forward Pass we go from left to right through our network.<br>\n",
    "That's where its name comes from. We do not tune any parameters, we just get the output.<br>\n",
    "\n",
    "#### Bacward Propagation.\n",
    "On Backward Pass our neural network tunes its parameters to maximize simmilarity of desired outputs and actual predictions.<br>\n",
    "During this process Network extracts patterns in the data.<br>\n",
    "Neural Network due to its scale learns complex and deep representations.<br>\n",
    "How do we learn these parameters?<br>\n",
    "**Cost Function**\n",
    "*And so the big idea is the cost function.<br> That's the big idea, the cost function is a way of measuring the performance<br> of the system according to some measure, whether that is a big actually, let me think,<br> is that is that one a difficult idea to arrive at?*<br> - Ilya Sutskever about Cost Function concept.<br>\n",
    "Cost Function is a function that measures difference between desired output and real preidction.<br>\n",
    "Higher values of cost function are typically a sign of poor performance.<br>\n",
    "Cost Function Concept deserves more attention (and I hope you are familiar with it from traditional Machine Learning, otherwise I recommend to start from simpler models).<br>\n",
    "This very Cost Function rates how good our model performs.<br>\n",
    "In DL we have a hand of cost functions that work well & those functions are convex, so we can find their minimum (parameter values that result in minimum output of cost function)<br>\n",
    "Example of Cost Function:<br>\n",
    "<img src=\"https://global.discourse-cdn.com/dlai/original/3X/1/3/133adb05a8ab320f2d069daacaa20f21bbe63a9d.jpeg\" width=40%><br>\n",
    "\n",
    "Each parameter value has its own rate of influence.<br>\n",
    "We can measure partial derivative of cost function with respect to particular parameter & then subtract this value (move in the direction of negative gradient).<br>\n",
    "If derivative is positive (meaning increase of parameter increases cost function) we want to subtract partial derivative (because we want to minimize loss), and on opposite, if derivative is negative (cost function decreases when increasing parameter) we want to add the derivative.<br>\n",
    "I'm gonna omit math details here, but there's a pretty damn cool explanation of what's happening by 3b1b: https://www.youtube.com/watch?v=tIeHLnjs5U8\n",
    "<br>\n",
    "\n",
    "---\n",
    "#### **What we build?**\n",
    "For the sake of simplicity I'll use MNIST dataset, because it's really simple yet easily interpreted.\n",
    "I'll use architecture similar to Keras framework, because it's really simple."
   ]
  },
  {
   "cell_type": "code",
   "execution_count": 2,
   "metadata": {},
   "outputs": [],
   "source": [
    "# Activation Functions:\n",
    "class ReLU:\n",
    "    def forward(self, z):\n",
    "        return np.maximum(z, 0)\n",
    "    def backward(self, a):\n",
    "        return a > 0\n",
    "    \n",
    "activation_map = {\n",
    "    \"relu\": ReLU(),\n",
    "    \"linear\": None\n",
    "}"
   ]
  },
  {
   "cell_type": "code",
   "execution_count": null,
   "metadata": {},
   "outputs": [],
   "source": [
    "class Dense:\n",
    "    def __init__(self, n_neurons, activation=\"linear\"):\n",
    "        self.n_neurons = n_neurons\n",
    "        self.activation = activation_map[activation]\n",
    "        self.weights = None\n",
    "        self.biases = np.zeros((n_neurons, 1))\n",
    "\n",
    "    def forward(self, X):\n",
    "        self.input = X\n",
    "        m_samples, n_features = X.shape\n",
    "        if not self.weights:\n",
    "            self.weights = np.random.rand(self.n_neurons, n_features)\n",
    "        out = np.dot(self.weights, X.T) + self.biases\n",
    "        if self.activation:\n",
    "            out = self.activation.forward(out)\n",
    "        return out\n",
    "    \n",
    "    def backward(self, out_grad, lr):\n",
    "        dw = np.dot(out_grad, self.input)\n",
    "        db = np.sum(out_grad)"
   ]
  },
  {
   "cell_type": "markdown",
   "metadata": {},
   "source": [
    "<p align=\"center\">\n",
    "<img src=\"https://static-00.iconduck.com/assets.00/beaver-emoji-2048x2019-61w8w8mn.png\" width=10%><br>\n",
    "KurwAI Guides.<br>\n",
    "MIT License.\n",
    "</p>"
   ]
  }
 ],
 "metadata": {
  "kernelspec": {
   "display_name": "Python 3",
   "language": "python",
   "name": "python3"
  },
  "language_info": {
   "codemirror_mode": {
    "name": "ipython",
    "version": 3
   },
   "file_extension": ".py",
   "mimetype": "text/x-python",
   "name": "python",
   "nbconvert_exporter": "python",
   "pygments_lexer": "ipython3",
   "version": "3.13.0"
  }
 },
 "nbformat": 4,
 "nbformat_minor": 4
}
