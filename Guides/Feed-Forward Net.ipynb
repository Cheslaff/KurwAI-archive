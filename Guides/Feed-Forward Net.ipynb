{
 "cells": [
  {
   "cell_type": "markdown",
   "metadata": {},
   "source": [
    "## **Let's dive deep into Feed-Forward Networks!**\n",
    "🦫KURW.AI💗\n",
    "\n",
    "---\n",
    "\n",
    "Venchislaw 2024."
   ]
  },
  {
   "cell_type": "markdown",
   "metadata": {},
   "source": [
    "### 1) Intro for Nerds\n",
    "---\n",
    "\n",
    "Human brain is incredible.<br>\n",
    "It can learn complex patterns by building complex neuron connections.<br>\n",
    "Yet we don't 100% now how brain works, we can build digital model of neuron and __network of neurons__<br>\n",
    "To build digital model of Neuron we should understand how biological one works.<br>\n",
    "I'm not a neuro-scientist, but I remember biology lesson at school about neurons<br>\n",
    "<img src=\"https://miro.medium.com/v2/resize:fit:1400/1*K1ee1SzB0lxjIIo7CGI7LQ.png\" width=30%><br>\n",
    "Ommiting biological details we can describe neuron in few words as a cell recieving information with dendrites from past neurons and either \"firing\" electrical signal or not. Neuron then passes its processed information with synapses to the following neurons.<br>\n",
    "Once again, model requires simplification, so we can look at a neuron as at a \"tiny unit that intakes some information and returns processed inputs.<br>\n",
    "The only question is \"processing\".<br>\n",
    "What should we do?<br>\n",
    "Neural Network consists of neurons, so it's better to think about one single unit.<br>"
   ]
  },
  {
   "cell_type": "markdown",
   "metadata": {},
   "source": [
    "### 2) Neuron Model\n",
    "\n",
    "---\n",
    "\n",
    "To the moment of building neuran model humanity was already aware of \"linear models\".<br>\n",
    "That's exactly what scientists decided to use.<br>\n",
    "For the model of neuron they picked linear model with \"activation function\" applied to it.<br>\n",
    "If you don't remember how linear model looks I can remind you quickly:<br>\n",
    "$$a = \\sum^n_{i=0} \\theta _ix_i$$\n",
    "where $x_0 = 1$ (to learn bias)<br>\n",
    "What is this \"activation function\"?<br>\n",
    "Biological Neuron is binary, it's either on or off.<br>\n",
    "Activation Function in this case is a __step function__.<br>\n",
    "It's 1 for input > threshold and 0 for input < threshold.<br>\n",
    "<img src=\"https://upload.wikimedia.org/wikipedia/commons/thumb/a/ac/HardLimitFunction.png/400px-HardLimitFunction.png\" width=30%><br>\n",
    "As you can see from this picture we have a 0 threshold.<br>\n",
    "However, custom threshold is not a problem for us.<br>\n",
    "**Threshold = - bias**\n",
    "This is to say, our linear computation already includes threshold.<br>"
   ]
  },
  {
   "cell_type": "markdown",
   "metadata": {},
   "source": [
    "### 3) Perceptron\n",
    "\n",
    "Perceptron is the first model of biological neuron.<br>\n",
    "Invented in 1958 it applied all practices described above with a pretty interesting learning rule.<br>\n",
    "Perceptron model is used for supervised binary classification task.<br>\n",
    "__How it works:__<br>\n",
    "It does absolutely the same thing, but to tune hyperparameters it follows the following rule:<br>\n",
    "- If prediction is correct (1-1 or 0-0) we do not change weights\n",
    "- If prediction is wrong:\n",
    "- - False Positive:<br>\n",
    "        This means our linear output is over the threshold<br>\n",
    "        We subtract scaled input feature vector from parameters<br>\n",
    "- - False Negative:<br>\n",
    "        This means our linear output is under the threshold<br>\n",
    "        We add up scaled input feature vector to parameters<br>\n",
    "\n",
    "**NOTE: Perceptron process each sample individually.**<br>\n",
    "This method tunes parameters close enough to the desired values.<br>\n",
    "### Let's build one!"
   ]
  },
  {
   "cell_type": "code",
   "execution_count": 1,
   "metadata": {},
   "outputs": [],
   "source": [
    "import numpy as np\n",
    "import matplotlib.pyplot as plt"
   ]
  },
  {
   "cell_type": "code",
   "execution_count": 2,
   "metadata": {},
   "outputs": [
    {
     "name": "stdout",
     "output_type": "stream",
     "text": [
      "Shapes:\n",
      "(1000, 10) (1000,)\n",
      "==================================================\n",
      "[[ 0.66698806  0.02581308 -0.77761941  0.94863382  0.70167179 -1.05108156\n",
      "  -0.36754812 -1.13745969 -1.32214752  1.77225828]\n",
      " [-0.34745899  0.67014016  0.32227152  0.06034293 -1.04345    -1.00994188\n",
      "   0.44173637  1.12887685 -1.83806777 -0.93876863]\n",
      " [-0.20184052  1.04537128  0.53816197  0.81211867  0.2411063  -0.95250953\n",
      "  -0.13626676  1.26724821  0.17363364 -1.22325477]\n",
      " [ 1.41531998  0.45771098  0.72887584  1.96843473 -0.54778801 -0.67941827\n",
      "  -2.50623032  0.14696049  0.60619549 -0.02253889]\n",
      " [ 0.01342226  0.93594489  0.42062266  0.41161964 -0.07132392 -0.04543758\n",
      "   1.04088597 -0.09403473 -0.42084395 -0.55198856]] [0 0 1 0 1]\n",
      "==================================================\n",
      "[[  0 478]\n",
      " [  1 522]]\n"
     ]
    }
   ],
   "source": [
    "\"\"\"\n",
    "Here I generate simple dummy dataset.<br>\n",
    "\"\"\"\n",
    "np.random.seed(23)\n",
    "\n",
    "num_samples = 1000\n",
    "num_features = 10\n",
    "\n",
    "X = np.random.randn(num_samples, num_features)\n",
    "weights = np.random.randn(num_features)\n",
    "bias = 0.5\n",
    "y = (np.dot(X, weights) + bias > 0).astype(int)\n",
    "\n",
    "print(\"Shapes:\")\n",
    "print(X.shape, y.shape)\n",
    "print(\"=\"*50)\n",
    "print(X[:5], y[:5])\n",
    "print(\"=\"*50)\n",
    "unique, counts = np.unique(y, return_counts=True)\n",
    "print(np.asarray((unique, counts)).T)"
   ]
  },
  {
   "cell_type": "code",
   "execution_count": 3,
   "metadata": {},
   "outputs": [],
   "source": [
    "\"\"\"\n",
    "And Here I build Perceptron Neuron!\n",
    "\"\"\"\n",
    "\n",
    "class Perceptron:\n",
    "    def __init__(self):\n",
    "        self.bias = 0\n",
    "\n",
    "    def fit(self, X, y):\n",
    "        self.weights = np.zeros((1, X.shape[1]))\n",
    "\n",
    "        for sample in zip(X, y):\n",
    "            prediction = np.dot(self.weights, sample[0]) + self.bias\n",
    "            activated = prediction > 0\n",
    "\n",
    "            self.weights += (sample[1] - activated) * sample[0]\n",
    "            self.bias += (sample[1] - activated) * 1\n",
    "        \n",
    "        return self.weights, self.bias\n",
    "    \n",
    "    def predict(self, X):\n",
    "        prediction = np.dot(self.weights, X.T) + self.bias\n",
    "        return np.array(prediction > 0).astype(int)"
   ]
  },
  {
   "cell_type": "code",
   "execution_count": 4,
   "metadata": {},
   "outputs": [
    {
     "data": {
      "text/plain": [
       "(array([[-13.58053614,  -0.07006142,  -0.82743697,  10.69942632,\n",
       "           1.26320988,  -8.41174634,   2.87887913,  -6.40411674,\n",
       "           6.93203191,  -4.31050118]]),\n",
       " array([2]))"
      ]
     },
     "execution_count": 4,
     "metadata": {},
     "output_type": "execute_result"
    }
   ],
   "source": [
    "perceptron = Perceptron()\n",
    "perceptron.fit(X, y)"
   ]
  },
  {
   "cell_type": "code",
   "execution_count": 5,
   "metadata": {},
   "outputs": [],
   "source": [
    "y_pred = perceptron.predict(X).flatten()"
   ]
  },
  {
   "cell_type": "code",
   "execution_count": 6,
   "metadata": {},
   "outputs": [
    {
     "name": "stdout",
     "output_type": "stream",
     "text": [
      "73\n"
     ]
    }
   ],
   "source": [
    "wrong = 0\n",
    "for pair in zip(y, y_pred):\n",
    "    if pair[0] != pair[1]:\n",
    "        wrong += 1\n",
    "    \n",
    "print(wrong)"
   ]
  },
  {
   "cell_type": "markdown",
   "metadata": {},
   "source": [
    "73 Misclassifications are not bad, but...<br>\n",
    "This is the training set it's seen."
   ]
  },
  {
   "cell_type": "markdown",
   "metadata": {},
   "source": [
    "### 4) Weakness of Perceptrons.\n",
    "\n",
    "Perceptrons are not suitable for neural networks.<br>\n",
    "1) Good Weights do not guarantee good outputs.\n",
    "2) Sample-by-sample processing is inefficient for larger scale\n",
    "3) Learning Rule of perceptron can not be scaled for multi-layer architecture (of a neural net)\n",
    "\n",
    "You can hear people calling Feed-Forward Neural Network an **MLP (Multi-Layer Perceptron)**, but it's wrong<br>\n",
    "They have nothing to do with Perceptron unit.<br>\n",
    "This is one of those historical-convention naming issues (like one with Logistic Regression).<br>\n",
    "They use gradient-descent for updates and the chain rule...<br>\n",
    "Oops, spoiler here!"
   ]
  },
  {
   "cell_type": "markdown",
   "metadata": {},
   "source": [
    "### 5) Linear Model with fancy activators.\n",
    "\n",
    "Lineaar Model is simple enough.<br>\n",
    "Instead of *weird* learning algorithm of Perceptron we use Gradient Descent optimization.<br>\n",
    "However, our step activation function is too sharp (its derivation is 0)<br>\n",
    "To address this issue scientists used to use sigmoid function (function returning values between 0 and 1)<br>\n",
    "Its outputs can be interpreted as probabilities of positive class.<br>\n",
    "$$a = {1 \\over {1 + e^{-z}}}$$"
   ]
  },
  {
   "cell_type": "code",
   "execution_count": 7,
   "metadata": {},
   "outputs": [
    {
     "data": {
      "image/png": "[encoded data removed]",
      "text/plain": [
       "<Figure size 640x480 with 1 Axes>"
      ]
     },
     "metadata": {},
     "output_type": "display_data"
    }
   ],
   "source": [
    "z = np.arange(-5, 5, 0.1)\n",
    "a = 1 / (1 + np.exp(-z))\n",
    "\n",
    "plt.title(\"Sigmoid\")\n",
    "plt.xlabel(\"z\")\n",
    "plt.ylabel(\"a\")\n",
    "plt.grid()\n",
    "plt.plot(z, a, c=\"red\");"
   ]
  },
  {
   "cell_type": "markdown",
   "metadata": {},
   "source": [
    "I'm not sure if it's safe enough to call sigmoid **smoother** version of step function, but I'll take this risk.<br>\n",
    "I just can't ignore their similarity.<br>\n",
    "However, another activation function called **ReLU** (Rectified Linear Unit) appeared to work better<br>\n",
    "We can think of it as of step function with continuous values above threshold."
   ]
  },
  {
   "cell_type": "code",
   "execution_count": 8,
   "metadata": {},
   "outputs": [
    {
     "data": {
      "image/png": "[encoded data removed]",
      "text/plain": [
       "<Figure size 640x480 with 1 Axes>"
      ]
     },
     "metadata": {},
     "output_type": "display_data"
    }
   ],
   "source": [
    "a = np.maximum(z, 0)\n",
    "\n",
    "plt.title(\"ReLU\")\n",
    "plt.xlabel(\"z\")\n",
    "plt.ylabel(\"a\")\n",
    "plt.grid()\n",
    "plt.plot(z, a, c=\"red\");"
   ]
  },
  {
   "cell_type": "markdown",
   "metadata": {},
   "source": [
    "Derivation is simple and practical.<br>\n",
    "It's 1 for values above 0 and 0 for values under 0.<br>\n",
    "This property prevents gradient vanishing (with values in range 0 to 1 it is a problem).<br>\n",
    "\n",
    "I don't think it worth building this neuron in vacuum.<br>\n",
    "Because it's a simple linear model (quite simmilar to logistic regression)"
   ]
  },
  {
   "cell_type": "markdown",
   "metadata": {},
   "source": [
    "### 6) Let's Put it all together.\n",
    "\n",
    "Now we now all nerdy stuff.<br>\n",
    "This is the core part, where we build Feed-Forward Neural Network from scratch.<br>\n",
    "\n",
    "---\n",
    "**ARCHITECTURE**\n",
    "Feed-Forward Neural Networks are built of stacked dense layers.<br>\n",
    "Each layer consists of linear neuron units(discussed above) with some activation function.<br>\n",
    "Each Neuron in layer recieves outputs of all neurons from the past layer as input and returns one value.<br>\n",
    "This value is passed as input to all neurons in the next layer.<br>\n",
    "NOTE: Neurons in layer are not connected to each other.<br>\n",
    "<img src=\"https://mukulrathi.com/static/648e5207805f95bf09c330a43d89d295/f207c/neural-net.png\" width=50%><br>\n",
    "\n",
    "---\n",
    "**MATH DETAILS**\n",
    "Feed-Forward Network learning process includes 2 parts: forward propagation & backward propagation.<br>\n",
    "On forward pass we make all calculations to make a prediction.<br>\n",
    "On backward pass we compare our prediction with desired output and tune parameters to get better prediction on the next forward pass.<br>\n",
    "Let's find out where these names come from!<br>\n",
    "#### Forward Propagation:\n",
    "To simplify explanation let's go through the network depicted above.<br>\n",
    "It consists of 3 layers (typically we do not count input layer).<br>\n",
    "3 Neurons in input layers mean we take 3 features for input (like area, condition, floors for house pricing prediction task).<br>\n",
    "Then we have 2 hidden layers with 4 neurons in each.<br>\n",
    "These layers are called hidden, because we can see their outputs.<br>\n",
    "These sting-like connections are our weights.<br>\n",
    "It makes sense, because for 4 neurons each recieving 3 features as input we need 12 weights.<br>\n",
    "To each neuron we pass 3 features scaled by corresponding 3 weights. Then we add bias.<br>\n",
    "Raw linear output is calculated as:<br>\n",
    "$$z = \\sum_i^n{w_ix_i} + b$$\n",
    "Activated value is:<br>\n",
    "$$a = ReLU(z) = max(0, z)$$\n",
    "_VECTORIZATION_\n",
    "Remember, we work with bunch of neurons and... multiple samples ($m$)<br>\n",
    "SHAPES:<br>\n",
    "Weights are represented with matrix with (n_neurons, n_inputs) for layer.<br>\n",
    "For example, for the 1st layer it's (4, 3) - 4 neurons in this layer with 3 neurons passed as input.<br>\n",
    "Input data shape is (m_samples, n_features) **BUT!** For mathematical convenience we're gonna use Transpose of input, so it's (n_features, m_samples).<br>\n",
    "Biases are vectors of shape (n_neurons,)<br>\n",
    "Output Z has a shape of (n_neurons, m_samples)<br>\n",
    "Z Calculation:<br>\n",
    "For each neuron we take inputs, scale them by corresponding weights and add them up (and add bias of course)<br>\n",
    "For n_neurons it is a dot product!<br>\n",
    "<img src=\"https://miro.medium.com/v2/resize:fit:1400/1*WU7efDAqEb_tKFg2DaOwhA.png\" width=40%><br>\n",
    "LAYER 1:\n",
    "$$Z_1 = WX + b1$$\n",
    "W shape: (n_neurons, n_features)<br>\n",
    "X shape: (n_features, m_samlpes)<br>\n",
    "Z shape: (n_neurons, m_samples) - outer shape.<br>\n",
    "This implies for the 2nd neuron.<br>\n",
    "$$A_1 = ReLU(Z)$$\n",
    "LAYER 2:\n",
    "$$Z_2 = W_2A_1 + b2$$\n",
    "$$A_2 = ReLU(Z_2)$$\n",
    "But here instead of input data we intake outputs of the first neuron.<br>\n",
    "\n",
    "On Forward Pass we go from left to right through our network.<br>\n",
    "That's where its name comes from. We do not tune any parameters, we just get the output.<br>\n",
    "\n",
    "#### Bacward Propagation.\n",
    "On Backward Pass our neural network tunes its parameters to maximize simmilarity of desired outputs and actual predictions.<br>\n",
    "During this process Network extracts patterns in the data.<br>\n",
    "Neural Network due to its scale learns complex and deep representations.<br>\n",
    "How do we learn these parameters?<br>\n",
    "**Cost Function**\n",
    "*And so the big idea is the cost function.<br> That's the big idea, the cost function is a way of measuring the performance<br> of the system according to some measure, whether that is a big actually, let me think,<br> is that is that one a difficult idea to arrive at?*<br> - Ilya Sutskever about Cost Function concept.<br>\n",
    "Cost Function is a function that measures difference between desired output and real preidction.<br>\n",
    "Higher values of cost function are typically a sign of poor performance.<br>\n",
    "Cost Function Concept deserves more attention (and I hope you are familiar with it from traditional Machine Learning, otherwise I recommend to start from simpler models).<br>\n",
    "This very Cost Function rates how good our model performs.<br>\n",
    "In DL we have a hand of cost functions that work well & those functions are convex, so we can find their minimum (parameter values that result in minimum output of cost function)<br>\n",
    "Example of Cost Function:<br>\n",
    "<img src=\"https://global.discourse-cdn.com/dlai/original/3X/1/3/133adb05a8ab320f2d069daacaa20f21bbe63a9d.jpeg\" width=40%><br>\n",
    "\n",
    "---\n",
    "\n",
    "#### Structure\n",
    "\n",
    "Keras structure is probably the easiest to undersand.<br>\n",
    "It's better to implement API first and experiment with architectures.<br>\n",
    "Without further ado"
   ]
  },
  {
   "cell_type": "markdown",
   "metadata": {},
   "source": [
    "### 7) API.\n",
    "Tensorflow Keras API is  simple & fancy.<br>\n",
    "If you are not familiar with keras API it's simple.<br>\n",
    "Core components:<br>\n",
    "- Sequential Model class\n",
    "- Dense Layer\n"
   ]
  },
  {
   "cell_type": "code",
   "execution_count": 9,
   "metadata": {},
   "outputs": [],
   "source": [
    "import pandas as pd"
   ]
  },
  {
   "cell_type": "code",
   "execution_count": 10,
   "metadata": {},
   "outputs": [],
   "source": [
    "df_train = pd.read_csv(\"mnist_train.csv\")\n",
    "df_test = pd.read_csv(\"mnist_test.csv\")"
   ]
  },
  {
   "cell_type": "code",
   "execution_count": 11,
   "metadata": {},
   "outputs": [
    {
     "name": "stdout",
     "output_type": "stream",
     "text": [
      "(60000, 784) (60000,)\n",
      "(10000, 784) (10000,)\n"
     ]
    }
   ],
   "source": [
    "X_train = np.array(df_train.drop(columns=[\"label\"])) / 255.\n",
    "y_train = df_train[\"label\"]\n",
    "X_test = np.array(df_test.drop(columns=[\"label\"])) / 255.\n",
    "y_test = df_test[\"label\"]\n",
    "\n",
    "print(X_train.shape, y_train.shape)\n",
    "print(X_test.shape, y_test.shape)"
   ]
  },
  {
   "cell_type": "code",
   "execution_count": 12,
   "metadata": {},
   "outputs": [
    {
     "data": {
      "text/plain": [
       "1.0"
      ]
     },
     "execution_count": 12,
     "metadata": {},
     "output_type": "execute_result"
    }
   ],
   "source": [
    "X_train.max()"
   ]
  },
  {
   "cell_type": "code",
   "execution_count": 13,
   "metadata": {},
   "outputs": [
    {
     "data": {
      "image/png": "[encoded data removed]",
      "text/plain": [
       "<Figure size 640x480 with 1 Axes>"
      ]
     },
     "metadata": {},
     "output_type": "display_data"
    }
   ],
   "source": [
    "plt.title(y_train[0])\n",
    "plt.axis(\"off\")\n",
    "plt.imshow(X_train[0].reshape(28, 28), cmap=\"grey\");"
   ]
  },
  {
   "cell_type": "code",
   "execution_count": 14,
   "metadata": {},
   "outputs": [],
   "source": [
    "def init_parameters():\n",
    "    w1 = np.random.rand(28, 784) - 0.5\n",
    "    w2 = np.random.rand(28, 28) - 0.5\n",
    "    w3 = np.random.rand(10, 28) - 0.5\n",
    "    b1 = np.zeros((28, 1))\n",
    "    b2 = np.zeros((28, 1))\n",
    "    b3 = np.zeros((10, 1))\n",
    "\n",
    "    return w1, w2, w3, b1, b2, b3\n",
    "\n",
    "\n",
    "def relu(z):\n",
    "    return np.maximum(z, 0)\n",
    "\n",
    "def softmax(z):\n",
    "    return np.exp(z) / sum(np.exp(z))\n",
    "    \n",
    "\n",
    "def forward(X, w1, w2, w3, b1, b2, b3):\n",
    "    z1 = np.dot(w1, X) + b1\n",
    "    a1 = relu(z1)\n",
    "    z2 = np.dot(w2, a1) + b2\n",
    "    a2 = relu(z2)\n",
    "    z3 = np.dot(w3, a2) + b3\n",
    "    a3 = softmax(z3)\n",
    "\n",
    "    return z1, z2, z3, a1, a2, a3\n",
    "\n",
    "\n",
    "def ohe_encode(y):\n",
    "    Y = np.zeros((y.size, y.max()+1))\n",
    "    Y[np.arange(y.size), y] = 1\n",
    "    return Y.T\n",
    "\n",
    "\n",
    "def relu_derivative(z):\n",
    "    return z > 0\n",
    "\n",
    "\n",
    "def backward(z1, a1, z2, a2, z3, a3, w2, w3, X, y):\n",
    "    m = X.shape[1]  # it's (n, m) & we need m\n",
    "    Y = ohe_encode(y)\n",
    "    dz3 = a3 - Y\n",
    "    dw3 = 1 / m * np.dot(dz3, a2.T)\n",
    "    db3 = 1 / m * np.sum(dz3)\n",
    "\n",
    "    dz2 = np.dot(w3.T, dz3) * relu_derivative(z2)\n",
    "    dw2 = 1 / m * np.dot(dz2, a1.T)\n",
    "    db2 = 1 / m * np.sum(dz2)\n",
    "\n",
    "    dz1 = np.dot(w2.T, dz2) * relu_derivative(z1)\n",
    "    dw1 = 1 / m * np.dot(dz1, X.T)\n",
    "    db1 = 1 / m * np.sum(dz1)\n",
    "    return dw1, db1, dw2, db2, dw3, db3\n",
    "    \n",
    "\n",
    "def accuracy(y, pred):\n",
    "    return np.sum(y == pred) / y.size\n",
    "\n",
    "\n",
    "def nn_fit(X, y, iterations=500, learning_rate=0.1):\n",
    "    X = X.T\n",
    "    w1, w2, w3, b1, b2, b3 = init_parameters()\n",
    "    for iteration in range(iterations):\n",
    "        z1, z2, z3, a1, a2, a3 = forward(X, w1, w2, w3, b1, b2, b3)\n",
    "        pred = np.argmax(a3, axis=0)\n",
    "        acc = accuracy(y, pred)\n",
    "        if iteration % 10 == 0:\n",
    "            print(f\"Iteration: {iteration} | Accuracy: {acc}\")\n",
    "        \n",
    "        dw1, db1, dw2, db2, dw3, db3 = backward(z1, a1, z2, a2, z3, a3, w2, w3, X, y)\n",
    "        # Update:\n",
    "        w1 -= dw1 * learning_rate\n",
    "        b1 -= db1 * learning_rate\n",
    "        w2 -= dw2 * learning_rate\n",
    "        b2 -= db2 * learning_rate\n",
    "        w3 -= dw3 * learning_rate\n",
    "        b3 -= db3 * learning_rate\n",
    "        \n",
    "    return w1, b1, w2, b2, w3, b3\n",
    "        "
   ]
  },
  {
   "cell_type": "code",
   "execution_count": 15,
   "metadata": {
    "scrolled": true
   },
   "outputs": [
    {
     "name": "stdout",
     "output_type": "stream",
     "text": [
      "Iteration: 0 | Accuracy: 0.06963333333333334\n",
      "Iteration: 10 | Accuracy: 0.2344\n",
      "Iteration: 20 | Accuracy: 0.35128333333333334\n",
      "Iteration: 30 | Accuracy: 0.45165\n",
      "Iteration: 40 | Accuracy: 0.52395\n",
      "Iteration: 50 | Accuracy: 0.5802\n",
      "Iteration: 60 | Accuracy: 0.6233166666666666\n",
      "Iteration: 70 | Accuracy: 0.6571333333333333\n",
      "Iteration: 80 | Accuracy: 0.6847833333333333\n",
      "Iteration: 90 | Accuracy: 0.7063666666666667\n",
      "Iteration: 100 | Accuracy: 0.7133166666666667\n",
      "Iteration: 110 | Accuracy: 0.7150333333333333\n",
      "Iteration: 120 | Accuracy: 0.7390833333333333\n",
      "Iteration: 130 | Accuracy: 0.7509333333333333\n",
      "Iteration: 140 | Accuracy: 0.7626166666666667\n",
      "Iteration: 150 | Accuracy: 0.7733833333333333\n",
      "Iteration: 160 | Accuracy: 0.7830166666666667\n",
      "Iteration: 170 | Accuracy: 0.7925\n",
      "Iteration: 180 | Accuracy: 0.8010833333333334\n",
      "Iteration: 190 | Accuracy: 0.8070333333333334\n",
      "Iteration: 200 | Accuracy: 0.81315\n",
      "Iteration: 210 | Accuracy: 0.8188\n",
      "Iteration: 220 | Accuracy: 0.8238833333333333\n",
      "Iteration: 230 | Accuracy: 0.82795\n",
      "Iteration: 240 | Accuracy: 0.8323666666666667\n",
      "Iteration: 250 | Accuracy: 0.8362833333333334\n",
      "Iteration: 260 | Accuracy: 0.83975\n",
      "Iteration: 270 | Accuracy: 0.8433166666666667\n",
      "Iteration: 280 | Accuracy: 0.8462\n",
      "Iteration: 290 | Accuracy: 0.8492666666666666\n",
      "Iteration: 300 | Accuracy: 0.8518666666666667\n",
      "Iteration: 310 | Accuracy: 0.8545333333333334\n",
      "Iteration: 320 | Accuracy: 0.8568666666666667\n",
      "Iteration: 330 | Accuracy: 0.8591666666666666\n",
      "Iteration: 340 | Accuracy: 0.8610166666666667\n",
      "Iteration: 350 | Accuracy: 0.8631333333333333\n",
      "Iteration: 360 | Accuracy: 0.86485\n",
      "Iteration: 370 | Accuracy: 0.8665666666666667\n",
      "Iteration: 380 | Accuracy: 0.86845\n",
      "Iteration: 390 | Accuracy: 0.8699166666666667\n",
      "Iteration: 400 | Accuracy: 0.8715\n",
      "Iteration: 410 | Accuracy: 0.87295\n",
      "Iteration: 420 | Accuracy: 0.8741833333333333\n",
      "Iteration: 430 | Accuracy: 0.8752166666666666\n",
      "Iteration: 440 | Accuracy: 0.8762333333333333\n",
      "Iteration: 450 | Accuracy: 0.8774833333333333\n",
      "Iteration: 460 | Accuracy: 0.879\n",
      "Iteration: 470 | Accuracy: 0.88015\n",
      "Iteration: 480 | Accuracy: 0.8815166666666666\n",
      "Iteration: 490 | Accuracy: 0.8825833333333334\n"
     ]
    }
   ],
   "source": [
    "w1, b1, w2, b2, w3, b3 = nn_fit(X_train, y_train)"
   ]
  },
  {
   "cell_type": "markdown",
   "metadata": {},
   "source": [
    "As you can see our accuracy improvements dicreased during training.\n",
    "I could add EarlyStopping, but I'm lazy brah"
   ]
  },
  {
   "cell_type": "code",
   "execution_count": 18,
   "metadata": {},
   "outputs": [],
   "source": [
    "_, _, _, _, _, a3 = forward(X_test.T, w1, w2, w3, b1, b2, b3)\n",
    "a3 = np.argmax(a3, axis=0)"
   ]
  },
  {
   "cell_type": "code",
   "execution_count": 29,
   "metadata": {},
   "outputs": [
    {
     "data": {
      "image/png": "[encoded data removed]",
      "text/plain": [
       "<Figure size 800x800 with 9 Axes>"
      ]
     },
     "metadata": {},
     "output_type": "display_data"
    }
   ],
   "source": [
    "plt.figure(figsize=(8, 8))\n",
    "plt.suptitle(\"Proud with results\")\n",
    "for i in range(9):\n",
    "    plt.subplot(3, 3, i+1)\n",
    "    plt.axis(\"off\")\n",
    "    plt.title(f\"Pred: {a3[i]} | Actual: {y_test[i]}\")\n",
    "    plt.imshow(X_test[i].reshape(28, 28), cmap=\"grey\");"
   ]
  },
  {
   "cell_type": "markdown",
   "metadata": {},
   "source": [
    "<p align=\"center\">\n",
    "<img src=\"https://static-00.iconduck.com/assets.00/beaver-emoji-2048x2019-61w8w8mn.png\" width=10%><br>\n",
    "KurwAI Guides.<br>\n",
    "MIT License.\n",
    "</p>"
   ]
  }
 ],
 "metadata": {
  "kernelspec": {
   "display_name": "Python 3 (ipykernel)",
   "language": "python",
   "name": "python3"
  },
  "language_info": {
   "codemirror_mode": {
    "name": "ipython",
    "version": 3
   },
   "file_extension": ".py",
   "mimetype": "text/x-python",
   "name": "python",
   "nbconvert_exporter": "python",
   "pygments_lexer": "ipython3",
   "version": "3.12.3"
  }
 },
 "nbformat": 4,
 "nbformat_minor": 4
}
